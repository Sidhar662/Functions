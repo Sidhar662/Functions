{
  "nbformat": 4,
  "nbformat_minor": 0,
  "metadata": {
    "colab": {
      "provenance": []
    },
    "kernelspec": {
      "name": "python3",
      "display_name": "Python 3"
    },
    "language_info": {
      "name": "python"
    }
  },
  "cells": [
    {
      "cell_type": "markdown",
      "source": [
        "1. What is the difference between a function and a method in Python?\n",
        "Ans >>\n",
        "\n",
        "    A function is defined using the def keyword and can exist independently of objects.\n",
        "\n",
        "    A method is a function that is associated with an object (e.g., a list or a\n",
        "    class instance).\n",
        "\n",
        "\n",
        "2. Explain the concept of function arguments and parameters in Python.\n",
        "Ans >>\n",
        "\n",
        "    Parameters are the variables listed in a function definition.\n",
        "\n",
        "    Arguments are the actual values passed to the function when it is called.\n",
        "\n",
        "\n",
        "3. What are the different ways to define and call a function in Python?\n",
        "Ans >>\n",
        "    Functions can be defined and used in several ways:\n",
        "\n",
        "    Using the def keyword to define a standard function.\n",
        "\n",
        "    Using a lambda function for simple one-line anonymous functions.\n",
        "\n",
        "    Using functools.partial to create a new function with fixed values for certain parameters.\n",
        "\n",
        "\n",
        "4. What is the purpose of the return statement in a Python function?\n",
        "Ans >>\n",
        "    The return statement is used to send a result back from a function to the caller. It also ends the function’s execution.\n",
        "\n",
        "\n",
        "5. What are iterators in Python and how do they differ from iterables?\n",
        "Ans >>\n",
        "\n",
        "    An iterable is an object capable of returning its members one at a time (e.g., lists, strings). It has an __iter__() method.\n",
        "\n",
        "    An iterator is the object returned by calling iter() on an iterable. It has a __next__() method to fetch elements one by one.\n",
        "\n",
        "\n",
        "6. Explain the concept of generators in Python and how they are defined.\n",
        "Ans >>\n",
        "    Generators are special functions that return values one at a time using the yield keyword instead of return. They maintain their state between yields, allowing for efficient, lazy iteration.\n",
        "\n",
        "\n",
        "7. What are the advantages of using generators over regular functions?\n",
        "Ans >>\n",
        "\n",
        "    They save memory by yielding items one at a time instead of storing the whole sequence in memory.\n",
        "\n",
        "    They support lazy evaluation, meaning values are only computed when needed.\n",
        "\n",
        "    Generators are ideal for large datasets or infinite sequences.\n",
        "\n",
        "\n",
        "8. What is a lambda function in Python and when is it typically used?\n",
        "Ans >>\n",
        "\n",
        "    A lambda function is a small, anonymous function used for simple operations, especially where a short function is needed for a limited scope, such as inside map(), filter(), or sorted().\n",
        "\n",
        "\n",
        "9. Explain the purpose and usage of the map() function in Python.\n",
        "Ans >>\n",
        "    The map() function applies a given function to every item of an iterable, returning a new iterable with the transformed items.\n",
        "\n",
        "\n",
        "10. What is the difference between map(), filter(), and reduce() in Python?\n",
        "Ans >>\n",
        "\n",
        "    map(): Transforms each element in an iterable using a function.\n",
        "\n",
        "    filter(): Filters elements from an iterable based on a condition.\n",
        "\n",
        "    reduce(): Applies a function cumulatively to reduce the iterable to a single value. (Requires functools.)\n",
        "\n",
        "11. Write the internal mechanism for sum operation using reduce() on this list: [47, 11, 42, 13]\n",
        "Ans >>\n",
        "    \n",
        "    Step-by-step reduction process:\n",
        "\n",
        "    Step 1: 47 + 11 = 58\n",
        "\n",
        "    Step 2: 58 + 42 = 100\n",
        "\n",
        "    Step 3: 100 + 13 = 113\n",
        "    Final Result: 113\n",
        "    "
      ],
      "metadata": {
        "id": "u6HHULxkLQtD"
      }
    },
    {
      "cell_type": "code",
      "source": [
        "#                                          PRACTICAL QUESTIONS"
      ],
      "metadata": {
        "id": "V_-N-IddETci"
      },
      "execution_count": 1,
      "outputs": []
    },
    {
      "cell_type": "code",
      "source": [],
      "metadata": {
        "id": "abb5h3B6R2Q6"
      },
      "execution_count": null,
      "outputs": []
    },
    {
      "cell_type": "code",
      "source": [
        "# 1 . Sum of all even numbers in a list\n",
        "def sum_even_numbers(numbers):\n",
        " total  0\n",
        " for num in numbers:\n",
        " if num % 2  0\n",
        " total += num\n",
        " return total\n",
        " list =  [1,2,3,4,5]\n",
        "print(sum_even_numbers(list))"
      ],
      "metadata": {
        "colab": {
          "base_uri": "https://localhost:8080/"
        },
        "id": "W560wGj4MSc0",
        "outputId": "3cb67b3f-5faa-4e1a-e413-a5d7e55dac07"
      },
      "execution_count": 4,
      "outputs": [
        {
          "output_type": "stream",
          "name": "stdout",
          "text": [
            "6\n"
          ]
        }
      ]
    },
    {
      "cell_type": "code",
      "source": [
        "   #2.Create a python Function that takes accepta a string and return the reverse of the string.\n",
        "\n",
        "def reverse_string(s):\n",
        "    return s[::-1]\n",
        "\n",
        "print(reverse_string(\"allthebest\"))  # Output: \"tsebehtlla\""
      ],
      "metadata": {
        "colab": {
          "base_uri": "https://localhost:8080/"
        },
        "id": "H9AF0RCiPGI3",
        "outputId": "2c24889b-daa1-4a88-dcbd-a5b901f7d4f9"
      },
      "execution_count": 5,
      "outputs": [
        {
          "output_type": "stream",
          "name": "stdout",
          "text": [
            "tsebehtlla\n"
          ]
        }
      ]
    },
    {
      "cell_type": "code",
      "source": [
        "#3.3. Implement a Python function that takes a list of integers and returns a new list containing the squares of\n",
        "#each number.\n",
        "\n",
        "def square_numbers(numbers):\n",
        "    result = []\n",
        "    for num in numbers:\n",
        "        result.append(num * num)\n",
        "    return result\n",
        "\n",
        "print(square_numbers([1, 2, 3, 4]))  # Output: [1, 4, 9, 16]"
      ],
      "metadata": {
        "id": "rO3LBp4LRSrk",
        "outputId": "44a0622b-afcb-4c57-de11-77bf78ff7eca",
        "colab": {
          "base_uri": "https://localhost:8080/"
        }
      },
      "execution_count": 6,
      "outputs": [
        {
          "output_type": "stream",
          "name": "stdout",
          "text": [
            "[1, 4, 9, 16]\n"
          ]
        }
      ]
    },
    {
      "cell_type": "code",
      "source": [
        "#4. Write a Python function that checks if a given number is prime or not from 1 to 200\n",
        "\n",
        "def is_prime(n):\n",
        "    if n <= 1:\n",
        "        return False\n",
        "    for i in range(2, n):\n",
        "        if n % i == 0:\n",
        "            return False\n",
        "    return True\n",
        "\n",
        "# Example: check all primes from 1 to 200\n",
        "for num in range(1, 201):\n",
        "    if is_prime(num):\n",
        "        print(num, end=\" \")"
      ],
      "metadata": {
        "id": "wopO_4SLRWjm",
        "outputId": "1ceceec9-865f-4873-f079-6a61d6f1a79c",
        "colab": {
          "base_uri": "https://localhost:8080/"
        }
      },
      "execution_count": 7,
      "outputs": [
        {
          "output_type": "stream",
          "name": "stdout",
          "text": [
            "2 3 5 7 11 13 17 19 23 29 31 37 41 43 47 53 59 61 67 71 73 79 83 89 97 101 103 107 109 113 127 131 137 139 149 151 157 163 167 173 179 181 191 193 197 199 "
          ]
        }
      ]
    },
    {
      "cell_type": "code",
      "source": [
        "#5. Create an iterator class in Python that generates the Fibonacci sequence up to a specified number of\n",
        "terms.\n",
        "\n",
        "class Fibonacci:\n",
        "    def __init__(self, count):\n",
        "        self.count = count\n",
        "        self.a = 0\n",
        "        self.b = 1\n",
        "        self.i = 0\n",
        "\n",
        "    def __iter__(self):\n",
        "        return self\n",
        "\n",
        "    def __next__(self):\n",
        "        if self.i < self.count:\n",
        "            value = self.a\n",
        "            self.a, self.b = self.b, self.a + self.b\n",
        "            self.i += 1\n",
        "            return value\n",
        "        else:\n",
        "            raise StopIteration\n",
        "\n",
        "fib = Fibonacci(10)\n",
        "for number in fib:\n",
        "    print(number, end=\" \")\n"
      ],
      "metadata": {
        "id": "C5eLJqMDRbj4",
        "outputId": "18adb425-ccef-468c-ce18-223ee491115f",
        "colab": {
          "base_uri": "https://localhost:8080/"
        }
      },
      "execution_count": 8,
      "outputs": [
        {
          "output_type": "stream",
          "name": "stdout",
          "text": [
            "0 1 1 2 3 5 8 13 21 34 "
          ]
        }
      ]
    },
    {
      "cell_type": "code",
      "source": [
        "#6. Write a generator function in Python that yields the powers of 2 up to a given exponent.\n",
        "\n",
        "def power_of_two(n):\n",
        "    for i in range(n + 1):\n",
        "        yield 2 ** i\n",
        "\n",
        "for val in power_of_two(5):\n",
        "    print(val, end=\" \")\n"
      ],
      "metadata": {
        "id": "-DzA8Rt8Rf5G",
        "outputId": "ea35f7e0-5e3d-446c-e6f9-4c3b0268adb7",
        "colab": {
          "base_uri": "https://localhost:8080/"
        }
      },
      "execution_count": 9,
      "outputs": [
        {
          "output_type": "stream",
          "name": "stdout",
          "text": [
            "1 2 4 8 16 32 "
          ]
        }
      ]
    },
    {
      "cell_type": "code",
      "source": [
        "# 8. lambda function in Python to sort a list of tuples based on the second element of each tuple.\n",
        "\n",
        "data = [(1, 3), (2, 1), (3, 2)]\n",
        "sorted_data = sorted(data, key=lambda x: x[1])\n",
        "print(sorted_data)  # Output: [(2, 1), (3, 2), (1, 3)]\n"
      ],
      "metadata": {
        "id": "R2FNZvmzRi7p",
        "outputId": "a70b4722-98ec-4c5c-b325-f691d7f53962",
        "colab": {
          "base_uri": "https://localhost:8080/"
        }
      },
      "execution_count": 10,
      "outputs": [
        {
          "output_type": "stream",
          "name": "stdout",
          "text": [
            "[(2, 1), (3, 2), (1, 3)]\n"
          ]
        }
      ]
    },
    {
      "cell_type": "code",
      "source": [
        "# 9. Write a Python program that uses `map()` to convert a list of temperatures from Celsius to Fahrenheit.\n",
        "\n",
        "def convert_temp(celsius_list):\n",
        "    return list(map(lambda c: (c * 9/5) + 32, celsius_list))\n",
        "\n",
        "print(convert_temp([0, 10, 20, 30]))  # Output: [32.0, 50.0, 68.0, 86.0]\n"
      ],
      "metadata": {
        "id": "3YOGcBt8Rm57",
        "outputId": "1f86186f-4e26-42f0-dd4f-7878e78242c5",
        "colab": {
          "base_uri": "https://localhost:8080/"
        }
      },
      "execution_count": 11,
      "outputs": [
        {
          "output_type": "stream",
          "name": "stdout",
          "text": [
            "[32.0, 50.0, 68.0, 86.0]\n"
          ]
        }
      ]
    },
    {
      "cell_type": "code",
      "source": [
        "#.10. Create a Python program that uses `filter()` to remove all the vowels from a given string.\n",
        "\n",
        "def remove_vowels(s):\n",
        "    return ''.join(filter(lambda x: x.lower() not in 'aeiou', s))\n",
        "\n",
        "print(remove_vowels(\"Hello World\"))  # Output: \"Hll Wrld\"\n"
      ],
      "metadata": {
        "id": "YVQqxFnxRo9t",
        "outputId": "a582f0f2-8e10-4437-87a4-95339b01306e",
        "colab": {
          "base_uri": "https://localhost:8080/"
        }
      },
      "execution_count": 12,
      "outputs": [
        {
          "output_type": "stream",
          "name": "stdout",
          "text": [
            "Hll Wrld\n"
          ]
        }
      ]
    },
    {
      "cell_type": "code",
      "source": [
        "# 11) Imagine an accounting routine used in a book shop. It works on a list with sublists, which look like this:\n",
        "\n",
        "orders = [\n",
        "    [34587, \"Learning Python, Mark Lutz\", 4, 40.95],\n",
        "    [98762, \"Programming Python, Mark Lutz\", 5, 56.80],\n",
        "    [77226, \"Head First Python, Paul Barry\", 3, 32.95],\n",
        "    [88112, \"Einführung in Python3, Bernd Klein\", 3, 24.99]\n",
        "]\n",
        "\n",
        "final_result = list(map(lambda order: (\n",
        "    order[0],\n",
        "    order[2] * order[3] + 10 if order[2] * order[3] < 100 else order[2] * order[3]\n",
        "), orders))\n",
        "\n",
        "print(final_result)\n"
      ],
      "metadata": {
        "id": "YHPsIFgnRsIo",
        "outputId": "4164d19d-1fbd-448e-e679-7a3e7e70c192",
        "colab": {
          "base_uri": "https://localhost:8080/"
        }
      },
      "execution_count": 13,
      "outputs": [
        {
          "output_type": "stream",
          "name": "stdout",
          "text": [
            "[(34587, 163.8), (98762, 284.0), (77226, 108.85000000000001), (88112, 84.97)]\n"
          ]
        }
      ]
    },
    {
      "cell_type": "code",
      "source": [],
      "metadata": {
        "id": "eaPnkTDlRuEU"
      },
      "execution_count": null,
      "outputs": []
    }
  ]
}